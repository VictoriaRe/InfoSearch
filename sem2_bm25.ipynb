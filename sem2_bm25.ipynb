{
 "cells": [
  {
   "cell_type": "markdown",
   "metadata": {},
   "source": [
    "## Лекция 2  BM5    "
   ]
  },
  {
   "cell_type": "markdown",
   "metadata": {},
   "source": [
    "## Функция ранжирования bm25"
   ]
  },
  {
   "cell_type": "markdown",
   "metadata": {},
   "source": [
    "Для обратного индекса есть общепринятая формула для ранжирования *Okapi best match 25* ([Okapi BM25](https://ru.wikipedia.org/wiki/Okapi_BM25)).    \n",
    "Пусть дан запрос $Q$, содержащий слова  $q_1, ... , q_n$, тогда функция BM25 даёт следующую оценку релевантности документа $D$ запросу $Q$:\n",
    "\n",
    "$$ score(D, Q) = \\sum_{i}^{n} \\text{IDF}(q_i)*\\frac{TF(q_i,D)*(k+1)}{TF(q_i,D)+k(1-b+b\\frac{l(d)}{avgdl})} $$ \n",
    "где   \n",
    ">$TF(q_i,D)$ - частота слова $q_i$ в документе $D$      \n",
    "$l(d)$ - длина документа (количество слов в нём)   \n",
    "*avgdl* — средняя длина документа в коллекции    \n",
    "$k$ и $b$ — свободные коэффициенты, обычно их выбирают как $k$=2.0 и $b$=0.75   \n",
    "$$$$\n",
    "$\\text{IDF}(q_i)$ - это модернизированная версия IDF: \n",
    "$$\\text{IDF}(q_i) = \\log\\frac{N-n(q_i)+0.5}{n(q_i)+0.5},$$\n",
    ">> где $N$ - общее количество документов в коллекции   \n",
    "$n(q_i)$ — количество документов, содержащих $q_i$"
   ]
  },
  {
   "cell_type": "code",
   "execution_count": 678,
   "metadata": {},
   "outputs": [],
   "source": [
    "import collections\n",
    "import nltk\n",
    "import re\n",
    "import csv\n",
    "import numpy\n",
    "import time\n",
    "from math import log\n",
    "import pymorphy2\n",
    "morph = pymorphy2.MorphAnalyzer()\n",
    "from nltk.tokenize import RegexpTokenizer\n",
    "tokenizer = RegexpTokenizer(r'\\w+')\n",
    "import pandas as pd\n",
    "from sklearn.feature_extraction.text import CountVectorizer\n",
    "from sklearn.metrics.pairwise import cosine_similarity"
   ]
  },
  {
   "cell_type": "code",
   "execution_count": 679,
   "metadata": {
    "scrolled": false
   },
   "outputs": [
    {
     "name": "stdout",
     "output_type": "stream",
     "text": [
      "[nltk_data] Downloading package stopwords to\n",
      "[nltk_data]     /Users/victoriaregina/nltk_data...\n",
      "[nltk_data]   Package stopwords is already up-to-date!\n"
     ]
    }
   ],
   "source": [
    "nltk.download(\"stopwords\")\n",
    "from nltk.corpus import stopwords\n",
    "russian_stopwords = stopwords.words(\"russian\")"
   ]
  },
  {
   "cell_type": "code",
   "execution_count": 680,
   "metadata": {},
   "outputs": [],
   "source": [
    "def preprocessing(text):\n",
    "    normal_forms = []\n",
    "    tokenizer = RegexpTokenizer(r'\\w+')\n",
    "    \n",
    "    tokens = [morph.parse(token)[0] for token in tokenizer.tokenize(text)]\n",
    "    normal_forms = [token.normal_form for token in tokens if token not in russian_stopwords and token.normal_form != 'это']\n",
    "    preproc_text = ' '.join(normal_forms)\n",
    "       \n",
    "    return preproc_text, len(normal_forms)\n"
   ]
  },
  {
   "cell_type": "code",
   "execution_count": 681,
   "metadata": {},
   "outputs": [],
   "source": [
    "corpus = []\n",
    "len_doc = {}\n",
    "mean_len = []\n",
    "ids = []\n",
    "queries = []\n",
    "docs_id = {}\n",
    "counted_accuracy = []\n",
    "\n",
    "with open('/Users/victoriaregina/Downloads/quora_question_pairs_rus.csv', 'r') as file:\n",
    "    csv_reader = csv.reader(file, delimiter=',')\n",
    "\n",
    "    for line_count, row in enumerate(csv_reader):\n",
    "\n",
    "        if line_count == 0:\n",
    "            line_count += 1\n",
    "\n",
    "        else:\n",
    "\n",
    "            if line_count <= 1000:\n",
    "                line_count += 1\n",
    "                \n",
    "                docs_id[row[0]] = row[1]\n",
    "                counted_accuracy.append(row[3])\n",
    "\n",
    "                preproc_text, text_len  = preprocessing(row[1])\n",
    "                preproc_query, l = preprocessing(row[2])\n",
    "\n",
    "                ids.append(row[0])\n",
    "                corpus.append(preproc_text)\n",
    "                queries.append(preproc_query)\n",
    "                len_doc[row[0]] = text_len\n",
    "                mean_len.append(text_len)\n",
    "\n",
    "            else:\n",
    "                break\n",
    "\n",
    "\n",
    "avlen = numpy.mean(mean_len) #средняя длина документа\n",
    "N = line_count - 1 #всего документов в коллекции\n"
   ]
  },
  {
   "cell_type": "code",
   "execution_count": 692,
   "metadata": {},
   "outputs": [],
   "source": [
    "def bm25(idf, tf, k, b, l_doc, avlen):\n",
    "    \n",
    "    score = idf * (tf * (k+1)/(tf + k * (1 - b + b * (l_doc/avlen))))\n",
    "    \n",
    "    return score"
   ]
  },
  {
   "cell_type": "code",
   "execution_count": 693,
   "metadata": {},
   "outputs": [],
   "source": [
    "def bm_matrix_prep(corpus, N, k, b, len_doc, avlen):\n",
    "    \n",
    "    idf = {}\n",
    "\n",
    "    vec = CountVectorizer()\n",
    "    X = vec.fit_transform(corpus)\n",
    "\n",
    "    df = pd.DataFrame(X.toarray(), columns=vec.get_feature_names(), index=ids)\n",
    "\n",
    "    d = df.isin([0])\n",
    "\n",
    "    for word in d.columns:\n",
    "        sum_docs = N - sum(d[word]) #кол-во документов с этим словом\n",
    "\n",
    "        idf[word] = log((N - sum_docs + 0.5)/(sum_docs + 0.5))\n",
    "\n",
    "    df['sum'] = df.sum(axis=1)\n",
    "    tf_table = df.div(df['sum'], axis=0) \n",
    "    tf_table = tf_table.fillna(0)   \n",
    "\n",
    "    bm25_matrix = numpy.zeros((df.shape[0], df.shape[1])) #create zero matrix\n",
    "\n",
    "    for doc_id, text in enumerate(corpus):\n",
    "        \n",
    "        for word_id, word in enumerate(df.columns):\n",
    "\n",
    "            try:\n",
    "          \n",
    "                score = bm25(idf[word], tf.at[str(doc_id), word], k, b, len_doc[str(doc_id)], avlen)\n",
    "                bm25_matrix[doc_id, word_id] = float(score)\n",
    "                \n",
    "            except KeyError:\n",
    "                pass\n",
    "            \n",
    "        \n",
    "    return bm25_matrix, df.columns"
   ]
  },
  {
   "cell_type": "code",
   "execution_count": 694,
   "metadata": {
    "scrolled": true
   },
   "outputs": [],
   "source": [
    "k = 2.0\n",
    "b = 0.75\n",
    "\n",
    "bm25_matrix, columns = bm_matrix_prep(corpus, N, k, b, len_doc, avlen)\n",
    "bm25_df = pd.DataFrame(bm25_matrix, columns=list(columns), index=ids) #dataframe with bm25"
   ]
  },
  {
   "cell_type": "code",
   "execution_count": 699,
   "metadata": {},
   "outputs": [],
   "source": [
    "k = 2.0\n",
    "b = 0\n",
    "\n",
    "bm15_matrix, columns = bm_matrix_prep(corpus, N, k, b, len_doc, avlen)\n",
    "bm15_df = pd.DataFrame(bm15_matrix, columns=list(columns), index=ids) #dataframe with bm15"
   ]
  },
  {
   "cell_type": "code",
   "execution_count": 700,
   "metadata": {},
   "outputs": [],
   "source": [
    "k = 2.0\n",
    "b = 1\n",
    "\n",
    "bm11_matrix, columns = bm25_matrix_prep(corpus, N, k, b, len_doc, avlen)\n",
    "bm11_df = pd.DataFrame(bm11_matrix, columns=list(columns), index=ids) #dataframe with bm25"
   ]
  },
  {
   "cell_type": "markdown",
   "metadata": {},
   "source": [
    "### __Задача 1__:    \n",
    "Напишите два поисковика на *BM25*. Один через подсчет метрики по формуле для каждой пары слово-документ, второй через умножение матрицы на вектор. \n",
    "\n",
    "Сравните время работы поиска на 100к запросах. В качестве корпуса возьмем \n",
    "[Quora question pairs](https://www.kaggle.com/loopdigga/quora-question-pairs-russian)."
   ]
  },
  {
   "cell_type": "markdown",
   "metadata": {},
   "source": [
    "# Подсчет метрики по формуле для каждой пары слово-документ"
   ]
  },
  {
   "cell_type": "code",
   "execution_count": 685,
   "metadata": {},
   "outputs": [
    {
     "name": "stdout",
     "output_type": "stream",
     "text": [
      "Затраченное время для подсчета BM25 для каждой пары слово-документ 513.736 s\n"
     ]
    }
   ],
   "source": [
    "start_time = time.clock()\n",
    "scores = {}\n",
    "for query_id, query in enumerate(queries):\n",
    "    bm25_score = []\n",
    "    for i in range(0, len(ids)):\n",
    "        for q in query.split():\n",
    "        \n",
    "            try:\n",
    "                bm25 = bm25_df.at[str(i), q]\n",
    "                bm25_score.append(bm25)\n",
    "           \n",
    "            except KeyError:\n",
    "                pass\n",
    "            \n",
    "        scores[(query, i)] = numpy.sum(bm25_score)\n",
    "              \n",
    "print(\"Затраченное время для подсчета BM25 для каждой пары слово-документ\", \"{:g} s\".format(time.clock() - start_time))       "
   ]
  },
  {
   "cell_type": "markdown",
   "metadata": {},
   "source": [
    "# Подсчет метрики через умножение матрицы на вектор"
   ]
  },
  {
   "cell_type": "code",
   "execution_count": 686,
   "metadata": {},
   "outputs": [],
   "source": [
    "position_of_word = {}\n",
    "\n",
    "for i, word in enumerate(bm25_df.columns):\n",
    "    position_of_word[word] = i"
   ]
  },
  {
   "cell_type": "code",
   "execution_count": 687,
   "metadata": {},
   "outputs": [],
   "source": [
    "def vec_matrix_mult(query_vec, query, matrix):\n",
    "    query_vec = numpy.zeros((matrix.shape[1], 1))\n",
    "    \n",
    "    result = {}\n",
    "    \n",
    "    for q in query.split():\n",
    "        \n",
    "        try:\n",
    "            query_vec[position_of_word[q]] = 1\n",
    "            \n",
    "        except KeyError:\n",
    "            pass\n",
    "        \n",
    "    for doc_id, bm_25 in enumerate(matrix.values.dot(query_vec)):\n",
    "        \n",
    "        result[doc_id] = bm_25[0]\n",
    "        \n",
    "    return result"
   ]
  },
  {
   "cell_type": "code",
   "execution_count": 688,
   "metadata": {},
   "outputs": [
    {
     "name": "stdout",
     "output_type": "stream",
     "text": [
      "Затраченное время для подсчета BM25 5.081 s\n"
     ]
    }
   ],
   "source": [
    "scores = {}\n",
    "start_time = time.clock()\n",
    "for query_id, query in enumerate(queries):\n",
    "\n",
    "    result = vec_matrix_mult(query_vec, query, bm25_df)\n",
    "    \n",
    "    scores[query] = sorted(result.items(), key=lambda x: (x[1],x[0]), reverse=True)\n",
    "    \n",
    "print(\"Затраченное время для подсчета BM25\", \"{:g} s\".format(time.clock() - start_time))"
   ]
  },
  {
   "cell_type": "markdown",
   "metadata": {},
   "source": [
    "# Задание 2\n"
   ]
  },
  {
   "cell_type": "markdown",
   "metadata": {},
   "source": [
    "Выведите 10 первых результатов и их близость по метрике BM25 по запросу **рождественские каникулы** на нашем корпусе  Quora question pairs. "
   ]
  },
  {
   "cell_type": "code",
   "execution_count": 701,
   "metadata": {},
   "outputs": [
    {
     "name": "stdout",
     "output_type": "stream",
     "text": [
      "РЕЛЕВАНТНЫЙ ДОКУМЕНТ: как я могу преобразовать необработанные файлы в jpeg на фотографиях в macbook; БЛИЗОСТЬ ПО BM25 РАВНА 0.0\n",
      "РЕЛЕВАНТНЫЙ ДОКУМЕНТ: что такое хорошая песня для лирического розыгрыша; БЛИЗОСТЬ ПО BM25 РАВНА 0.0\n",
      "РЕЛЕВАНТНЫЙ ДОКУМЕНТ: мы могли бы использовать черенковское излучение атмосферы с гамма-лучами или аналогично изображению поверхности планеты отсюда с наземными телескопами; БЛИЗОСТЬ ПО BM25 РАВНА 0.0\n",
      "РЕЛЕВАНТНЫЙ ДОКУМЕНТ: я и мои подруги личные части коснулись друг друга, она может забеременеть; БЛИЗОСТЬ ПО BM25 РАВНА 0.0\n",
      "РЕЛЕВАНТНЫЙ ДОКУМЕНТ: которая является лучшими акциями для покупки и продажи ежедневной торговли; БЛИЗОСТЬ ПО BM25 РАВНА 0.0\n",
      "РЕЛЕВАНТНЫЙ ДОКУМЕНТ: я просто студент, но у меня нет мотивации или вообще не хожу в школу, может кто-нибудь помочь мне бороться с этим; БЛИЗОСТЬ ПО BM25 РАВНА 0.0\n",
      "РЕЛЕВАНТНЫЙ ДОКУМЕНТ: который 2g-полоса 900 1800mhz была продана во время 2-граммового афера; БЛИЗОСТЬ ПО BM25 РАВНА 0.0\n",
      "РЕЛЕВАНТНЫЙ ДОКУМЕНТ: у вас есть паранормальный опыт; БЛИЗОСТЬ ПО BM25 РАВНА 0.0\n",
      "РЕЛЕВАНТНЫЙ ДОКУМЕНТ: я случайно принял лекарство от артериального давления дважды, я буду в порядке; БЛИЗОСТЬ ПО BM25 РАВНА 0.0\n",
      "РЕЛЕВАНТНЫЙ ДОКУМЕНТ: что было бы здоровым способом совершить самоубийство; БЛИЗОСТЬ ПО BM25 РАВНА 0.0\n"
     ]
    }
   ],
   "source": [
    "#query = input('Введите запрос: ')\n",
    "query = 'рождественские каникулы'\n",
    "query_t, l = preprocessing(query)\n",
    "\n",
    "result = vec_matrix_mult(query_vec, query_t, bm25_df)\n",
    "\n",
    "result = sorted(result.items(), key=lambda x: (x[1],x[0]), reverse=True)\n",
    "\n",
    "for r in result[:10]:\n",
    "    \n",
    "    print('РЕЛЕВАНТНЫЙ ДОКУМЕНТ: '+ docs_id[str(r[0])] +'; БЛИЗОСТЬ ПО BM25 РАВНА', r[1])\n",
    "    "
   ]
  },
  {
   "cell_type": "markdown",
   "metadata": {},
   "source": [
    "### __Задача 3__:    \n",
    "\n",
    "Посчитайте точность поиска при \n",
    "1. BM25, b=0.75 \n",
    "2. BM15, b=0 \n",
    "3. BM11, b=1"
   ]
  },
  {
   "cell_type": "code",
   "execution_count": 702,
   "metadata": {},
   "outputs": [],
   "source": [
    "def accuracy_counting(matrix):\n",
    "    \n",
    "    scores = {}\n",
    "    ACCURACY = 0\n",
    "\n",
    "    for query_id, query in enumerate(queries):\n",
    "        accuracy = 0\n",
    "\n",
    "        result = vec_matrix_mult(query_vec, query, matrix)\n",
    "\n",
    "        scores[query] = sorted(result.items(), key=lambda x: (x[1],x[0]), reverse=True)\n",
    "\n",
    "        for r in scores[query][:5]:\n",
    "\n",
    "            if int(counted_accuracy[r[0]]) == 1 and r[1] > 0:\n",
    "                accuracy += 1\n",
    "\n",
    "            else:\n",
    "                accuracy = accuracy\n",
    "\n",
    "        if accuracy > 0:\n",
    "            ACCURACY += 1\n",
    "\n",
    "    return ACCURACY/N"
   ]
  },
  {
   "cell_type": "code",
   "execution_count": 703,
   "metadata": {},
   "outputs": [
    {
     "name": "stdout",
     "output_type": "stream",
     "text": [
      "Точность поиска при b=0.75 равна 0.648\n",
      "Точность поиска при b=0 равна 0.648\n",
      "Точность поиска при b=1 равна 0.648\n"
     ]
    }
   ],
   "source": [
    "print('Точность поиска при b=0.75 равна', accuracy_counting(bm25_df))\n",
    "print('Точность поиска при b=0 равна', accuracy_counting(bm15_df))\n",
    "print('Точность поиска при b=1 равна', accuracy_counting(bm11_df))"
   ]
  }
 ],
 "metadata": {
  "kernelspec": {
   "display_name": "Python 3",
   "language": "python",
   "name": "python3"
  },
  "language_info": {
   "codemirror_mode": {
    "name": "ipython",
    "version": 3
   },
   "file_extension": ".py",
   "mimetype": "text/x-python",
   "name": "python",
   "nbconvert_exporter": "python",
   "pygments_lexer": "ipython3",
   "version": "3.6.4"
  }
 },
 "nbformat": 4,
 "nbformat_minor": 2
}
