{
  "nbformat": 4,
  "nbformat_minor": 0,
  "metadata": {
    "colab": {
      "name": "Untitled3.ipynb",
      "provenance": [],
      "collapsed_sections": [
        "aMctqBQvLGkt"
      ],
      "toc_visible": true
    },
    "kernelspec": {
      "name": "python3",
      "display_name": "Python 3"
    }
  },
  "cells": [
    {
      "cell_type": "markdown",
      "metadata": {
        "id": "YxG-aKHOLKmS",
        "colab_type": "text"
      },
      "source": [
        "# FASTTEXT"
      ]
    },
    {
      "cell_type": "markdown",
      "metadata": {
        "id": "G-020SqFn43K",
        "colab_type": "text"
      },
      "source": [
        "# (1) Скачиваем FASTTEXT"
      ]
    },
    {
      "cell_type": "code",
      "metadata": {
        "id": "39AjOWaRn0Yj",
        "colab_type": "code",
        "outputId": "7bfc8766-f948-41a4-ce72-f0a053381431",
        "colab": {
          "base_uri": "https://localhost:8080/",
          "height": 442
        }
      },
      "source": [
        "!wget 'http://vectors.nlpl.eu/repository/11/181.zip'"
      ],
      "execution_count": 0,
      "outputs": [
        {
          "output_type": "stream",
          "text": [
            "--2019-10-25 01:40:11--  http://vectors.nlpl.eu/repository/11/181.zip\n",
            "Resolving vectors.nlpl.eu (vectors.nlpl.eu)... 129.240.189.225\n",
            "Connecting to vectors.nlpl.eu (vectors.nlpl.eu)|129.240.189.225|:80... connected.\n",
            "HTTP request sent, awaiting response... 200 OK\n",
            "Length: 2622716217 (2.4G) [application/zip]\n",
            "Saving to: ‘181.zip.2’\n",
            "\n",
            "181.zip.2            14%[=>                  ] 356.19M  16.9MB/s    eta 2m 59s "
          ],
          "name": "stdout"
        },
        {
          "output_type": "error",
          "ename": "KeyboardInterrupt",
          "evalue": "ignored",
          "traceback": [
            "\u001b[0;31m---------------------------------------------------------------------------\u001b[0m",
            "\u001b[0;31mKeyboardInterrupt\u001b[0m                         Traceback (most recent call last)",
            "\u001b[0;32m<ipython-input-42-5bfb7ba2d095>\u001b[0m in \u001b[0;36m<module>\u001b[0;34m()\u001b[0m\n\u001b[0;32m----> 1\u001b[0;31m \u001b[0mget_ipython\u001b[0m\u001b[0;34m(\u001b[0m\u001b[0;34m)\u001b[0m\u001b[0;34m.\u001b[0m\u001b[0msystem\u001b[0m\u001b[0;34m(\u001b[0m\u001b[0;34m\"wget 'http://vectors.nlpl.eu/repository/11/181.zip'\"\u001b[0m\u001b[0;34m)\u001b[0m\u001b[0;34m\u001b[0m\u001b[0;34m\u001b[0m\u001b[0m\n\u001b[0m",
            "\u001b[0;32m/usr/local/lib/python3.6/dist-packages/google/colab/_shell.py\u001b[0m in \u001b[0;36msystem\u001b[0;34m(self, *args, **kwargs)\u001b[0m\n\u001b[1;32m     94\u001b[0m       \u001b[0mkwargs\u001b[0m\u001b[0;34m.\u001b[0m\u001b[0mupdate\u001b[0m\u001b[0;34m(\u001b[0m\u001b[0;34m{\u001b[0m\u001b[0;34m'also_return_output'\u001b[0m\u001b[0;34m:\u001b[0m \u001b[0;32mTrue\u001b[0m\u001b[0;34m}\u001b[0m\u001b[0;34m)\u001b[0m\u001b[0;34m\u001b[0m\u001b[0;34m\u001b[0m\u001b[0m\n\u001b[1;32m     95\u001b[0m \u001b[0;34m\u001b[0m\u001b[0m\n\u001b[0;32m---> 96\u001b[0;31m     \u001b[0moutput\u001b[0m \u001b[0;34m=\u001b[0m \u001b[0m_system_commands\u001b[0m\u001b[0;34m.\u001b[0m\u001b[0m_system_compat\u001b[0m\u001b[0;34m(\u001b[0m\u001b[0mself\u001b[0m\u001b[0;34m,\u001b[0m \u001b[0;34m*\u001b[0m\u001b[0margs\u001b[0m\u001b[0;34m,\u001b[0m \u001b[0;34m**\u001b[0m\u001b[0mkwargs\u001b[0m\u001b[0;34m)\u001b[0m  \u001b[0;31m# pylint:disable=protected-access\u001b[0m\u001b[0;34m\u001b[0m\u001b[0;34m\u001b[0m\u001b[0m\n\u001b[0m\u001b[1;32m     97\u001b[0m \u001b[0;34m\u001b[0m\u001b[0m\n\u001b[1;32m     98\u001b[0m     \u001b[0;32mif\u001b[0m \u001b[0mpip_warn\u001b[0m\u001b[0;34m:\u001b[0m\u001b[0;34m\u001b[0m\u001b[0;34m\u001b[0m\u001b[0m\n",
            "\u001b[0;32m/usr/local/lib/python3.6/dist-packages/google/colab/_system_commands.py\u001b[0m in \u001b[0;36m_system_compat\u001b[0;34m(shell, cmd, also_return_output)\u001b[0m\n\u001b[1;32m    436\u001b[0m   \u001b[0;31m# stack.\u001b[0m\u001b[0;34m\u001b[0m\u001b[0;34m\u001b[0m\u001b[0;34m\u001b[0m\u001b[0m\n\u001b[1;32m    437\u001b[0m   result = _run_command(\n\u001b[0;32m--> 438\u001b[0;31m       shell.var_expand(cmd, depth=2), clear_streamed_output=False)\n\u001b[0m\u001b[1;32m    439\u001b[0m   \u001b[0mshell\u001b[0m\u001b[0;34m.\u001b[0m\u001b[0muser_ns\u001b[0m\u001b[0;34m[\u001b[0m\u001b[0;34m'_exit_code'\u001b[0m\u001b[0;34m]\u001b[0m \u001b[0;34m=\u001b[0m \u001b[0mresult\u001b[0m\u001b[0;34m.\u001b[0m\u001b[0mreturncode\u001b[0m\u001b[0;34m\u001b[0m\u001b[0;34m\u001b[0m\u001b[0m\n\u001b[1;32m    440\u001b[0m   \u001b[0;32mif\u001b[0m \u001b[0;34m-\u001b[0m\u001b[0mresult\u001b[0m\u001b[0;34m.\u001b[0m\u001b[0mreturncode\u001b[0m \u001b[0;32min\u001b[0m \u001b[0m_INTERRUPTED_SIGNALS\u001b[0m\u001b[0;34m:\u001b[0m\u001b[0;34m\u001b[0m\u001b[0;34m\u001b[0m\u001b[0m\n",
            "\u001b[0;32m/usr/local/lib/python3.6/dist-packages/google/colab/_system_commands.py\u001b[0m in \u001b[0;36m_run_command\u001b[0;34m(cmd, clear_streamed_output)\u001b[0m\n\u001b[1;32m    193\u001b[0m       \u001b[0mos\u001b[0m\u001b[0;34m.\u001b[0m\u001b[0mclose\u001b[0m\u001b[0;34m(\u001b[0m\u001b[0mchild_pty\u001b[0m\u001b[0;34m)\u001b[0m\u001b[0;34m\u001b[0m\u001b[0;34m\u001b[0m\u001b[0m\n\u001b[1;32m    194\u001b[0m \u001b[0;34m\u001b[0m\u001b[0m\n\u001b[0;32m--> 195\u001b[0;31m       \u001b[0;32mreturn\u001b[0m \u001b[0m_monitor_process\u001b[0m\u001b[0;34m(\u001b[0m\u001b[0mparent_pty\u001b[0m\u001b[0;34m,\u001b[0m \u001b[0mepoll\u001b[0m\u001b[0;34m,\u001b[0m \u001b[0mp\u001b[0m\u001b[0;34m,\u001b[0m \u001b[0mcmd\u001b[0m\u001b[0;34m,\u001b[0m \u001b[0mupdate_stdin_widget\u001b[0m\u001b[0;34m)\u001b[0m\u001b[0;34m\u001b[0m\u001b[0;34m\u001b[0m\u001b[0m\n\u001b[0m\u001b[1;32m    196\u001b[0m   \u001b[0;32mfinally\u001b[0m\u001b[0;34m:\u001b[0m\u001b[0;34m\u001b[0m\u001b[0;34m\u001b[0m\u001b[0m\n\u001b[1;32m    197\u001b[0m     \u001b[0mepoll\u001b[0m\u001b[0;34m.\u001b[0m\u001b[0mclose\u001b[0m\u001b[0;34m(\u001b[0m\u001b[0;34m)\u001b[0m\u001b[0;34m\u001b[0m\u001b[0;34m\u001b[0m\u001b[0m\n",
            "\u001b[0;32m/usr/lib/python3.6/contextlib.py\u001b[0m in \u001b[0;36m__exit__\u001b[0;34m(self, type, value, traceback)\u001b[0m\n\u001b[1;32m     86\u001b[0m         \u001b[0;32mif\u001b[0m \u001b[0mtype\u001b[0m \u001b[0;32mis\u001b[0m \u001b[0;32mNone\u001b[0m\u001b[0;34m:\u001b[0m\u001b[0;34m\u001b[0m\u001b[0;34m\u001b[0m\u001b[0m\n\u001b[1;32m     87\u001b[0m             \u001b[0;32mtry\u001b[0m\u001b[0;34m:\u001b[0m\u001b[0;34m\u001b[0m\u001b[0;34m\u001b[0m\u001b[0m\n\u001b[0;32m---> 88\u001b[0;31m                 \u001b[0mnext\u001b[0m\u001b[0;34m(\u001b[0m\u001b[0mself\u001b[0m\u001b[0;34m.\u001b[0m\u001b[0mgen\u001b[0m\u001b[0;34m)\u001b[0m\u001b[0;34m\u001b[0m\u001b[0;34m\u001b[0m\u001b[0m\n\u001b[0m\u001b[1;32m     89\u001b[0m             \u001b[0;32mexcept\u001b[0m \u001b[0mStopIteration\u001b[0m\u001b[0;34m:\u001b[0m\u001b[0;34m\u001b[0m\u001b[0;34m\u001b[0m\u001b[0m\n\u001b[1;32m     90\u001b[0m                 \u001b[0;32mreturn\u001b[0m \u001b[0;32mFalse\u001b[0m\u001b[0;34m\u001b[0m\u001b[0;34m\u001b[0m\u001b[0m\n",
            "\u001b[0;32m/usr/local/lib/python3.6/dist-packages/google/colab/_system_commands.py\u001b[0m in \u001b[0;36m_display_stdin_widget\u001b[0;34m(delay_millis)\u001b[0m\n\u001b[1;32m    353\u001b[0m \u001b[0;34m\u001b[0m\u001b[0m\n\u001b[1;32m    354\u001b[0m   \u001b[0mhide_args\u001b[0m \u001b[0;34m=\u001b[0m \u001b[0;34m[\u001b[0m\u001b[0;34m'cell_remove_stdin'\u001b[0m\u001b[0;34m,\u001b[0m \u001b[0;34m{\u001b[0m\u001b[0;34m}\u001b[0m\u001b[0;34m]\u001b[0m\u001b[0;34m\u001b[0m\u001b[0;34m\u001b[0m\u001b[0m\n\u001b[0;32m--> 355\u001b[0;31m   \u001b[0m_message\u001b[0m\u001b[0;34m.\u001b[0m\u001b[0mblocking_request\u001b[0m\u001b[0;34m(\u001b[0m\u001b[0;34m*\u001b[0m\u001b[0mhide_args\u001b[0m\u001b[0;34m,\u001b[0m \u001b[0mparent\u001b[0m\u001b[0;34m=\u001b[0m\u001b[0mshell\u001b[0m\u001b[0;34m.\u001b[0m\u001b[0mparent_header\u001b[0m\u001b[0;34m)\u001b[0m\u001b[0;34m\u001b[0m\u001b[0;34m\u001b[0m\u001b[0m\n\u001b[0m\u001b[1;32m    356\u001b[0m \u001b[0;34m\u001b[0m\u001b[0m\n\u001b[1;32m    357\u001b[0m \u001b[0;34m\u001b[0m\u001b[0m\n",
            "\u001b[0;32m/usr/local/lib/python3.6/dist-packages/google/colab/_message.py\u001b[0m in \u001b[0;36mblocking_request\u001b[0;34m(request_type, request, timeout_sec, parent)\u001b[0m\n\u001b[1;32m    169\u001b[0m   \u001b[0;31m# unique.\u001b[0m\u001b[0;34m\u001b[0m\u001b[0;34m\u001b[0m\u001b[0;34m\u001b[0m\u001b[0m\n\u001b[1;32m    170\u001b[0m   \u001b[0mrequest_id\u001b[0m \u001b[0;34m=\u001b[0m \u001b[0msend_request\u001b[0m\u001b[0;34m(\u001b[0m\u001b[0mrequest_type\u001b[0m\u001b[0;34m,\u001b[0m \u001b[0mrequest\u001b[0m\u001b[0;34m,\u001b[0m \u001b[0mparent\u001b[0m\u001b[0;34m=\u001b[0m\u001b[0mparent\u001b[0m\u001b[0;34m)\u001b[0m\u001b[0;34m\u001b[0m\u001b[0;34m\u001b[0m\u001b[0m\n\u001b[0;32m--> 171\u001b[0;31m   \u001b[0;32mreturn\u001b[0m \u001b[0mread_reply_from_input\u001b[0m\u001b[0;34m(\u001b[0m\u001b[0mrequest_id\u001b[0m\u001b[0;34m,\u001b[0m \u001b[0mtimeout_sec\u001b[0m\u001b[0;34m)\u001b[0m\u001b[0;34m\u001b[0m\u001b[0;34m\u001b[0m\u001b[0m\n\u001b[0m",
            "\u001b[0;32m/usr/local/lib/python3.6/dist-packages/google/colab/_message.py\u001b[0m in \u001b[0;36mread_reply_from_input\u001b[0;34m(message_id, timeout_sec)\u001b[0m\n\u001b[1;32m     99\u001b[0m     \u001b[0mreply\u001b[0m \u001b[0;34m=\u001b[0m \u001b[0m_read_next_input_message\u001b[0m\u001b[0;34m(\u001b[0m\u001b[0;34m)\u001b[0m\u001b[0;34m\u001b[0m\u001b[0;34m\u001b[0m\u001b[0m\n\u001b[1;32m    100\u001b[0m     \u001b[0;32mif\u001b[0m \u001b[0mreply\u001b[0m \u001b[0;34m==\u001b[0m \u001b[0m_NOT_READY\u001b[0m \u001b[0;32mor\u001b[0m \u001b[0;32mnot\u001b[0m \u001b[0misinstance\u001b[0m\u001b[0;34m(\u001b[0m\u001b[0mreply\u001b[0m\u001b[0;34m,\u001b[0m \u001b[0mdict\u001b[0m\u001b[0;34m)\u001b[0m\u001b[0;34m:\u001b[0m\u001b[0;34m\u001b[0m\u001b[0;34m\u001b[0m\u001b[0m\n\u001b[0;32m--> 101\u001b[0;31m       \u001b[0mtime\u001b[0m\u001b[0;34m.\u001b[0m\u001b[0msleep\u001b[0m\u001b[0;34m(\u001b[0m\u001b[0;36m0.025\u001b[0m\u001b[0;34m)\u001b[0m\u001b[0;34m\u001b[0m\u001b[0;34m\u001b[0m\u001b[0m\n\u001b[0m\u001b[1;32m    102\u001b[0m       \u001b[0;32mcontinue\u001b[0m\u001b[0;34m\u001b[0m\u001b[0;34m\u001b[0m\u001b[0m\n\u001b[1;32m    103\u001b[0m     if (reply.get('type') == 'colab_reply' and\n",
            "\u001b[0;31mKeyboardInterrupt\u001b[0m: "
          ]
        }
      ]
    },
    {
      "cell_type": "code",
      "metadata": {
        "id": "416t2EhMoJGb",
        "colab_type": "code",
        "outputId": "ad63ff81-cbd8-480d-fe79-36d39196299f",
        "colab": {
          "base_uri": "https://localhost:8080/",
          "height": 165
        }
      },
      "source": [
        "!unzip '181.zip' -d 'fasttext'"
      ],
      "execution_count": 0,
      "outputs": [
        {
          "output_type": "stream",
          "text": [
            "Archive:  181.zip\n",
            "  inflating: fasttext/meta.json      \n",
            "  inflating: fasttext/model.model    \n",
            "  inflating: fasttext/model.model.vectors_ngrams.npy  \n",
            "  inflating: fasttext/model.model.vectors.npy  \n",
            "  inflating: fasttext/model.model.vectors_vocab.npy  \n",
            "  inflating: fasttext/README         \n"
          ],
          "name": "stdout"
        }
      ]
    },
    {
      "cell_type": "code",
      "metadata": {
        "id": "GketFia7oK5C",
        "colab_type": "code",
        "colab": {}
      },
      "source": [
        "from gensim.models.keyedvectors import KeyedVectors\n",
        "\n",
        "fast_model = 'fasttext/model.model'"
      ],
      "execution_count": 0,
      "outputs": []
    },
    {
      "cell_type": "code",
      "metadata": {
        "id": "QF4-Fi-1oN1p",
        "colab_type": "code",
        "outputId": "2a945f2e-b7ed-46da-c448-b0438e061e4d",
        "colab": {
          "base_uri": "https://localhost:8080/",
          "height": 111
        }
      },
      "source": [
        "fasttext_model = KeyedVectors.load(fast_model)"
      ],
      "execution_count": 0,
      "outputs": [
        {
          "output_type": "stream",
          "text": [
            "/usr/local/lib/python3.6/dist-packages/smart_open/smart_open_lib.py:398: UserWarning: This function is deprecated, use smart_open.open instead. See the migration notes for details: https://github.com/RaRe-Technologies/smart_open/blob/master/README.rst#migrating-to-the-new-open-function\n",
            "  'See the migration notes for details: %s' % _MIGRATION_NOTES_URL\n"
          ],
          "name": "stderr"
        }
      ]
    },
    {
      "cell_type": "markdown",
      "metadata": {
        "id": "Kk1VeAKPoPOd",
        "colab_type": "text"
      },
      "source": [
        "# (2) Скачиваем корпус документов"
      ]
    },
    {
      "cell_type": "code",
      "metadata": {
        "id": "73DGvj8Kp5rb",
        "colab_type": "code",
        "colab": {}
      },
      "source": [
        "import pandas as pd"
      ],
      "execution_count": 0,
      "outputs": []
    },
    {
      "cell_type": "code",
      "metadata": {
        "id": "N9PZDM6coVGR",
        "colab_type": "code",
        "outputId": "11cd4f71-37fa-4f03-e561-5feebd44126d",
        "colab": {
          "base_uri": "https://localhost:8080/",
          "height": 478
        }
      },
      "source": [
        "!wget 'https://www.dropbox.com/s/jaa5y82qzul6byn/quora_question_pairs_rus.csv'"
      ],
      "execution_count": 0,
      "outputs": [
        {
          "output_type": "stream",
          "text": [
            "--2019-10-24 23:04:15--  https://www.dropbox.com/s/jaa5y82qzul6byn/quora_question_pairs_rus.csv\n",
            "Resolving www.dropbox.com (www.dropbox.com)... 162.125.8.1, 2620:100:6016:1::a27d:101\n",
            "Connecting to www.dropbox.com (www.dropbox.com)|162.125.8.1|:443... connected.\n",
            "HTTP request sent, awaiting response... 301 Moved Permanently\n",
            "Location: /s/raw/jaa5y82qzul6byn/quora_question_pairs_rus.csv [following]\n",
            "--2019-10-24 23:04:15--  https://www.dropbox.com/s/raw/jaa5y82qzul6byn/quora_question_pairs_rus.csv\n",
            "Reusing existing connection to www.dropbox.com:443.\n",
            "HTTP request sent, awaiting response... 302 Found\n",
            "Location: https://ucba04202d73e66d5a4e8ade8d70.dl.dropboxusercontent.com/cd/0/inline/ArGze7ayNVdqXUP9S_JrTEjh5S_Q2eCvnIM40Yiu-axIb3ugo2zxFwqHHH_YHb1aqZjtpHWC8Cj9CHtaEtH_SpMzcTvPVTgU1EHGhyYkwXY5OQ7oHeubnTj79_MiUjVttpk/file# [following]\n",
            "--2019-10-24 23:04:16--  https://ucba04202d73e66d5a4e8ade8d70.dl.dropboxusercontent.com/cd/0/inline/ArGze7ayNVdqXUP9S_JrTEjh5S_Q2eCvnIM40Yiu-axIb3ugo2zxFwqHHH_YHb1aqZjtpHWC8Cj9CHtaEtH_SpMzcTvPVTgU1EHGhyYkwXY5OQ7oHeubnTj79_MiUjVttpk/file\n",
            "Resolving ucba04202d73e66d5a4e8ade8d70.dl.dropboxusercontent.com (ucba04202d73e66d5a4e8ade8d70.dl.dropboxusercontent.com)... 162.125.1.6, 2620:100:6016:6::a27d:106\n",
            "Connecting to ucba04202d73e66d5a4e8ade8d70.dl.dropboxusercontent.com (ucba04202d73e66d5a4e8ade8d70.dl.dropboxusercontent.com)|162.125.1.6|:443... connected.\n",
            "HTTP request sent, awaiting response... 200 OK\n",
            "Length: 94499321 (90M) [text/plain]\n",
            "Saving to: ‘quora_question_pairs_rus.csv’\n",
            "\n",
            "quora_question_pair 100%[===================>]  90.12M  57.6MB/s    in 1.6s    \n",
            "\n",
            "2019-10-24 23:04:18 (57.6 MB/s) - ‘quora_question_pairs_rus.csv’ saved [94499321/94499321]\n",
            "\n"
          ],
          "name": "stdout"
        }
      ]
    },
    {
      "cell_type": "code",
      "metadata": {
        "id": "Nb_4fr66odOX",
        "colab_type": "code",
        "colab": {}
      },
      "source": [
        "data = pd.read_csv('quora_question_pairs_rus.csv', index_col='Unnamed: 0')"
      ],
      "execution_count": 0,
      "outputs": []
    },
    {
      "cell_type": "code",
      "metadata": {
        "id": "hSl5WD73od42",
        "colab_type": "code",
        "colab": {}
      },
      "source": [
        "data=data[:1000] # взяла первые 1000 запросов, чтобы было удобно сравнить с точностью поиска по bm25"
      ],
      "execution_count": 0,
      "outputs": []
    },
    {
      "cell_type": "markdown",
      "metadata": {
        "id": "98k8YZxeonUr",
        "colab_type": "text"
      },
      "source": [
        "# (3) Скачиваем словарь модели "
      ]
    },
    {
      "cell_type": "code",
      "metadata": {
        "id": "bo5CZ010pmnx",
        "colab_type": "code",
        "colab": {}
      },
      "source": [
        "import pickle\n",
        "import numpy as np"
      ],
      "execution_count": 0,
      "outputs": []
    },
    {
      "cell_type": "code",
      "metadata": {
        "id": "dK4FcK0cosQr",
        "colab_type": "code",
        "colab": {}
      },
      "source": [
        "lemmas = fasttext_model.vocab\n",
        "\n",
        "# создаем пустую матрицу размерности длина словаря на 300\n",
        "lemmas_vectors = np.zeros((len(lemmas), fasttext_model.vector_size))\n",
        "\n",
        "# добавляем векторы для каждой леммы\n",
        "for idx, lemma in enumerate(lemmas):\n",
        "    lemmas_vectors[idx] = fasttext_model[lemma]\n",
        "    \n",
        "mean_vector = lemmas_vectors.mean(axis=0)\n",
        "\n",
        "# сохраняем в pickle файл\n",
        "with open('lemmas_vocab.pickle', 'wb') as f:\n",
        "  pickle.dump(lemmas_vectors, f)"
      ],
      "execution_count": 0,
      "outputs": []
    },
    {
      "cell_type": "markdown",
      "metadata": {
        "id": "ndNmoS2Jq9WS",
        "colab_type": "text"
      },
      "source": [
        "# (4) Создаем матрицу по документам"
      ]
    },
    {
      "cell_type": "code",
      "metadata": {
        "id": "SrV_OtJmssce",
        "colab_type": "code",
        "outputId": "f2d4f2d5-8280-4ba1-bfe0-fe525b9208fb",
        "colab": {
          "base_uri": "https://localhost:8080/",
          "height": 302
        }
      },
      "source": [
        "! pip install pymorphy2"
      ],
      "execution_count": 0,
      "outputs": [
        {
          "output_type": "stream",
          "text": [
            "Collecting pymorphy2\n",
            "\u001b[?25l  Downloading https://files.pythonhosted.org/packages/a3/33/fff9675c68b5f6c63ec8c6e6ff57827dda28a1fa5b2c2d727dffff92dd47/pymorphy2-0.8-py2.py3-none-any.whl (46kB)\n",
            "\r\u001b[K     |███████                         | 10kB 13.8MB/s eta 0:00:01\r\u001b[K     |██████████████▏                 | 20kB 3.2MB/s eta 0:00:01\r\u001b[K     |█████████████████████▎          | 30kB 4.6MB/s eta 0:00:01\r\u001b[K     |████████████████████████████▍   | 40kB 3.0MB/s eta 0:00:01\r\u001b[K     |████████████████████████████████| 51kB 2.4MB/s \n",
            "\u001b[?25hRequirement already satisfied: docopt>=0.6 in /usr/local/lib/python3.6/dist-packages (from pymorphy2) (0.6.2)\n",
            "Collecting dawg-python>=0.7\n",
            "  Downloading https://files.pythonhosted.org/packages/6a/84/ff1ce2071d4c650ec85745766c0047ccc3b5036f1d03559fd46bb38b5eeb/DAWG_Python-0.7.2-py2.py3-none-any.whl\n",
            "Collecting pymorphy2-dicts<3.0,>=2.4\n",
            "\u001b[?25l  Downloading https://files.pythonhosted.org/packages/02/51/2465fd4f72328ab50877b54777764d928da8cb15b74e2680fc1bd8cb3173/pymorphy2_dicts-2.4.393442.3710985-py2.py3-none-any.whl (7.1MB)\n",
            "\u001b[K     |████████████████████████████████| 7.1MB 5.7MB/s \n",
            "\u001b[?25hInstalling collected packages: dawg-python, pymorphy2-dicts, pymorphy2\n",
            "Successfully installed dawg-python-0.7.2 pymorphy2-0.8 pymorphy2-dicts-2.4.393442.3710985\n"
          ],
          "name": "stdout"
        }
      ]
    },
    {
      "cell_type": "code",
      "metadata": {
        "id": "zkoWYAUVsMgx",
        "colab_type": "code",
        "colab": {}
      },
      "source": [
        "from pymorphy2 import MorphAnalyzer\n",
        "from nltk.tokenize import WordPunctTokenizer\n",
        "import re\n",
        "import time\n",
        "import os\n",
        "from sklearn.feature_extraction.text import CountVectorizer\n",
        "from math import log\n",
        "import nltk\n",
        "morph = MorphAnalyzer()"
      ],
      "execution_count": 0,
      "outputs": []
    },
    {
      "cell_type": "code",
      "metadata": {
        "id": "e4-PWnCRsx7j",
        "colab_type": "code",
        "outputId": "466e1512-88f8-4f6a-ccb9-ee02a65731ff",
        "colab": {
          "base_uri": "https://localhost:8080/",
          "height": 51
        }
      },
      "source": [
        "nltk.download(\"stopwords\")\n",
        "from nltk.corpus import stopwords\n",
        "russian_stopwords = stopwords.words(\"russian\")"
      ],
      "execution_count": 0,
      "outputs": [
        {
          "output_type": "stream",
          "text": [
            "[nltk_data] Downloading package stopwords to /root/nltk_data...\n",
            "[nltk_data]   Unzipping corpora/stopwords.zip.\n"
          ],
          "name": "stdout"
        }
      ]
    },
    {
      "cell_type": "code",
      "metadata": {
        "id": "ERAed4U5rGYs",
        "colab_type": "code",
        "colab": {}
      },
      "source": [
        "def preprocessing(text):\n",
        "    \n",
        "    text = re.sub(r'[A-Za-z0-9<>«»\\.!\\(\\)?,;:\\-\\\"\\ufeff]', r'', str(text))\n",
        "    text = WordPunctTokenizer().tokenize(text)\n",
        "    preproc_text = ''\n",
        "    tokens = [morph.parse(token)[0] for token in text]\n",
        "    normal_forms = [token.normal_form for token in tokens if token not in russian_stopwords and token.normal_form != 'это']\n",
        "    preproc_text = ' '.join(normal_forms)\n",
        "       \n",
        "    return preproc_text"
      ],
      "execution_count": 0,
      "outputs": []
    },
    {
      "cell_type": "code",
      "metadata": {
        "id": "2LuslAvXsmgU",
        "colab_type": "code",
        "outputId": "261459b3-fe94-4093-f5c0-449762076ca7",
        "colab": {
          "base_uri": "https://localhost:8080/",
          "height": 51
        }
      },
      "source": [
        "# препроцессим корпус\n",
        "%%time\n",
        "data['question1_lemm'] = data['question1'].apply(lambda x: preprocessing(x))"
      ],
      "execution_count": 0,
      "outputs": [
        {
          "output_type": "stream",
          "text": [
            "CPU times: user 17.8 s, sys: 0 ns, total: 17.8 s\n",
            "Wall time: 17.9 s\n"
          ],
          "name": "stdout"
        }
      ]
    },
    {
      "cell_type": "code",
      "metadata": {
        "id": "k9hRavFysu8k",
        "colab_type": "code",
        "colab": {}
      },
      "source": [
        "def sent_vectorizer(sent, model, lemmas_vectors): # превращает каждое слово в вектор\n",
        "   \n",
        "    if type(sent) != str:\n",
        "        \n",
        "        sent_vector = np.zeros((model.vector_size,))\n",
        "        return sent_vector\n",
        "    \n",
        "    sent = sent.split()\n",
        "    lemmas_vectors = np.zeros((len(sent), model.vector_size))\n",
        "    vec = np.zeros((model.vector_size,))\n",
        "    \n",
        "    for idx, lemma in enumerate(sent):\n",
        "        if lemma in model.vocab:\n",
        "            lemmas_vectors[idx] = model[lemma]\n",
        "    \n",
        "    sent_vector = lemmas_vectors.sum(axis=0) # суммируем вектор для каждого документа\n",
        "    return sent_vector"
      ],
      "execution_count": 0,
      "outputs": []
    },
    {
      "cell_type": "code",
      "metadata": {
        "id": "aYJZx_95tGtB",
        "colab_type": "code",
        "colab": {}
      },
      "source": [
        "with open('lemmas_vocab.pickle', 'rb') as f:\n",
        "  lemmas = pickle.load(f)"
      ],
      "execution_count": 0,
      "outputs": []
    },
    {
      "cell_type": "code",
      "metadata": {
        "id": "aaNgTT57tfHs",
        "colab_type": "code",
        "outputId": "0e039e74-7fae-4fbd-8bbb-0a10d43ea125",
        "colab": {
          "base_uri": "https://localhost:8080/",
          "height": 51
        }
      },
      "source": [
        "# записываем в матрицу просуммированные векторы для каждого документа\n",
        "%%time\n",
        "data['q1_vector'] = data['question1_lemm'].apply(lambda x: sent_vectorizer(x, fasttext_model, lemmas))"
      ],
      "execution_count": 0,
      "outputs": [
        {
          "output_type": "stream",
          "text": [
            "CPU times: user 454 ms, sys: 29.9 ms, total: 484 ms\n",
            "Wall time: 488 ms\n"
          ],
          "name": "stdout"
        }
      ]
    },
    {
      "cell_type": "code",
      "metadata": {
        "id": "zXZSYIZHtvHp",
        "colab_type": "code",
        "colab": {}
      },
      "source": [
        "with open('docs_vectors.pickle', 'wb') as f:\n",
        "  pickle.dump(data, f)"
      ],
      "execution_count": 0,
      "outputs": []
    },
    {
      "cell_type": "markdown",
      "metadata": {
        "id": "BwG43Adku9bl",
        "colab_type": "text"
      },
      "source": [
        "# (5) Поиск на FastText"
      ]
    },
    {
      "cell_type": "code",
      "metadata": {
        "id": "TxR-t9rYvMdb",
        "colab_type": "code",
        "outputId": "e0d91470-0e3a-4ec5-8dc2-9157beb47686",
        "colab": {
          "base_uri": "https://localhost:8080/",
          "height": 55
        }
      },
      "source": [
        "# получаем запрос\n",
        "query = input('Введите Ваш запрос: ')"
      ],
      "execution_count": 0,
      "outputs": [
        {
          "output_type": "stream",
          "text": [
            "Введите Ваш запрос: rcytvubinjok\n"
          ],
          "name": "stdout"
        }
      ]
    },
    {
      "cell_type": "code",
      "metadata": {
        "id": "T0HTEkWTQBSY",
        "colab_type": "code",
        "outputId": "6c38c951-95de-4a19-b3a4-c2efd8c30323",
        "colab": {
          "base_uri": "https://localhost:8080/",
          "height": 347
        }
      },
      "source": [
        "!pip install pandas==0.25.2"
      ],
      "execution_count": 0,
      "outputs": [
        {
          "output_type": "stream",
          "text": [
            "Collecting pandas==0.25.2\n",
            "\u001b[?25l  Downloading https://files.pythonhosted.org/packages/86/12/08b092f6fc9e4c2552e37add0861d0e0e0d743f78f1318973caad970b3fc/pandas-0.25.2-cp36-cp36m-manylinux1_x86_64.whl (10.4MB)\n",
            "\u001b[K     |████████████████████████████████| 10.4MB 4.9MB/s \n",
            "\u001b[?25hRequirement already satisfied: python-dateutil>=2.6.1 in /usr/local/lib/python3.6/dist-packages (from pandas==0.25.2) (2.6.1)\n",
            "Requirement already satisfied: pytz>=2017.2 in /usr/local/lib/python3.6/dist-packages (from pandas==0.25.2) (2018.9)\n",
            "Requirement already satisfied: numpy>=1.13.3 in /usr/local/lib/python3.6/dist-packages (from pandas==0.25.2) (1.17.3)\n",
            "Requirement already satisfied: six>=1.5 in /usr/local/lib/python3.6/dist-packages (from python-dateutil>=2.6.1->pandas==0.25.2) (1.12.0)\n",
            "Installing collected packages: pandas\n",
            "  Found existing installation: pandas 0.24.1\n",
            "    Uninstalling pandas-0.24.1:\n",
            "      Successfully uninstalled pandas-0.24.1\n",
            "Successfully installed pandas-0.25.2\n"
          ],
          "name": "stdout"
        },
        {
          "output_type": "display_data",
          "data": {
            "application/vnd.colab-display-data+json": {
              "pip_warning": {
                "packages": [
                  "pandas"
                ]
              }
            }
          },
          "metadata": {
            "tags": []
          }
        }
      ]
    },
    {
      "cell_type": "code",
      "metadata": {
        "id": "EMkMxD4fwBHX",
        "colab_type": "code",
        "colab": {}
      },
      "source": [
        "# лемматизируем запрос\n",
        "query_lemm = preprocessing(query)"
      ],
      "execution_count": 0,
      "outputs": []
    },
    {
      "cell_type": "code",
      "metadata": {
        "id": "PdS0dR1owIOR",
        "colab_type": "code",
        "colab": {}
      },
      "source": [
        "# получаем вектор запроса\n",
        "query_vec = sent_vectorizer(query_lemm, fasttext_model, lemmas)"
      ],
      "execution_count": 0,
      "outputs": []
    },
    {
      "cell_type": "code",
      "metadata": {
        "id": "Uq3kxhX7wJVW",
        "colab_type": "code",
        "colab": {}
      },
      "source": [
        "# считаем косинусную близость по запросу для каждого документа\n",
        "from sklearn.metrics.pairwise import cosine_similarity\n",
        "\n",
        "def cos_similarity(docs_vectors, query_vec):\n",
        "  cos_sims = {} # словарь косинусных близостей запроса к каждому доку\n",
        "  \n",
        "  for i, vector in enumerate(docs_vectors['q1_vector']):\n",
        "    cos_sim = cosine_similarity(vector.reshape(1, -1), query_vec.reshape(1, -1))\n",
        "    cos_sims[i] = cos_sim[0][0]\n",
        "  \n",
        "  return cos_sims"
      ],
      "execution_count": 0,
      "outputs": []
    },
    {
      "cell_type": "code",
      "metadata": {
        "id": "hHbximIf0-V5",
        "colab_type": "code",
        "outputId": "13f98e85-146e-4e43-cb6f-ae6fd9d06444",
        "colab": {
          "base_uri": "https://localhost:8080/",
          "height": 34
        }
      },
      "source": [
        "with open('docs_vectors.pickle', 'rb') as f:\n",
        "  docs_vectors = pickle.load(f)\n",
        "\n",
        "cos_sims = cos_similarity(docs_vectors, query_vec)\n",
        "\n",
        "# сортируем по косинусной близости\n",
        "result = sorted(cos_sims.items(), key=lambda x: (x[1],x[0]), reverse=True)\n",
        "\n",
        "# печатаем топ 10 документов\n",
        "if result[:1][0][1] == float(0):\n",
        "  print('По Вашему запросу ' + query + ' ничего не найдено')\n",
        "\n",
        "else:\n",
        "  for r in result[:10]:\n",
        "    print('РЕЛЕВАНТНЫЙ ДОКУМЕНТ: '+ docs_vectors.at[r[0], 'question1'] +'; КОСИНУСНАЯ БЛИЗОСТЬ РАВНА', r[1])"
      ],
      "execution_count": 0,
      "outputs": [
        {
          "output_type": "stream",
          "text": [
            "По Вашему запросу rcytvubinjok ничего не найдено\n"
          ],
          "name": "stdout"
        }
      ]
    },
    {
      "cell_type": "markdown",
      "metadata": {
        "id": "XUBHjgOR58kY",
        "colab_type": "text"
      },
      "source": [
        "# (6) Качество поиска на FastText"
      ]
    },
    {
      "cell_type": "code",
      "metadata": {
        "id": "6rBbye2mCjMm",
        "colab_type": "code",
        "colab": {}
      },
      "source": [
        "def accuracy(top_results, data):\n",
        "  \n",
        "  ACCURACY = 0\n",
        "  \n",
        "  for res in top_results:\n",
        "    #print(res[1], data.at[res[0], 'is_duplicate'])\n",
        "    \n",
        "    if res[1] > 0 and data.at[res[0], 'is_duplicate'] == 1:\n",
        "      ACCURACY = 1\n",
        "    \n",
        "    else:\n",
        "      ACCURACY = ACCURACY\n",
        "  \n",
        "  return ACCURACY"
      ],
      "execution_count": 0,
      "outputs": []
    },
    {
      "cell_type": "code",
      "metadata": {
        "id": "qO1OSdtq6Adf",
        "colab_type": "code",
        "colab": {}
      },
      "source": [
        "with open('lemmas_vocab.pickle', 'rb') as f:\n",
        "  lemmas = pickle.load(f)\n",
        "  \n",
        "with open('docs_vectors.pickle', 'rb') as f:\n",
        "  data = pickle.load(f)\n",
        "\n",
        "data['question2_lemm'] = data['question2'].apply(lambda x: preprocessing(x))\n",
        "data['q2_vector'] = data['question2_lemm'].apply(lambda x: sent_vectorizer(x, fasttext_model, lemmas))"
      ],
      "execution_count": 0,
      "outputs": []
    },
    {
      "cell_type": "code",
      "metadata": {
        "id": "HlbhCa1RAoTh",
        "colab_type": "code",
        "outputId": "b92ec364-95e9-4f0c-e014-b3dd795050c6",
        "colab": {
          "base_uri": "https://localhost:8080/",
          "height": 34
        }
      },
      "source": [
        "accuracies = 0\n",
        "for i, query in enumerate(data['q2_vector']):\n",
        "\n",
        "  cos_sims = cos_similarity(docs_vectors, query)\n",
        "  \n",
        "  result = sorted(cos_sims.items(), key=lambda x: (x[1],x[0]), reverse=True)\n",
        "  accuracies += accuracy(result[:5], data)\n",
        "  \n",
        "\n",
        "print('Точность поиска на fasttext равна ', accuracies/len(data))"
      ],
      "execution_count": 0,
      "outputs": [
        {
          "output_type": "stream",
          "text": [
            "Точность поиска на fasttext равна  0.819\n"
          ],
          "name": "stdout"
        }
      ]
    }
  ]
}